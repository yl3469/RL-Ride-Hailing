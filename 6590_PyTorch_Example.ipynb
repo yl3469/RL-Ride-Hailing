{
 "cells": [
  {
   "cell_type": "code",
   "execution_count": 2,
   "metadata": {},
   "outputs": [],
   "source": [
    "import torch\n",
    "import math\n",
    "import gym"
   ]
  },
  {
   "cell_type": "code",
   "execution_count": 3,
   "metadata": {},
   "outputs": [],
   "source": [
    "size = 200\n",
    "x1 = torch.linspace(0, 200, size)/10.+ (torch.rand(size)*4.-2.)\n",
    "x2 = torch.linspace(0, 200, size)/20.+ (torch.rand(size)*6.-3.)\n",
    "x3 = torch.linspace(0, 200, size)/30.+ (torch.rand(size)*8.-4.)\n",
    "x = torch.transpose(torch.vstack((x1,x2,x3)),1,0)\n",
    "y = 1./3.*(x1+2.*x2+torch.sin(x3))-5."
   ]
  },
  {
   "cell_type": "code",
   "execution_count": 4,
   "metadata": {},
   "outputs": [],
   "source": [
    "prob = 0.8 #randomly permutate the 1:200 indices and select the first 80% as training set\n",
    "random_idx = torch.randperm(size)\n",
    "idx_train = random_idx[:math.floor(size*prob)]\n",
    "idx_test = random_idx[math.floor(size*prob):]\n",
    "x_train = x[idx_train,]\n",
    "y_train = y[idx_train]#print(xtrain.size())\n",
    "x_test = x[idx_test,]#print(xtest.size())\n",
    "y_test = y[idx_test]"
   ]
  },
  {
   "cell_type": "code",
   "execution_count": 5,
   "metadata": {},
   "outputs": [],
   "source": [
    "class Scaler:\n",
    "    def __init__(self, x, y):\n",
    "        self.x_mean = torch.mean(x, axis=0)\n",
    "        self.y_mean= torch.mean(y)\n",
    "        self.x_std = torch.std(x, axis=0)\n",
    "        self.y_std = torch.std(y)\n",
    "        \n",
    "    def getx(self):\n",
    "        return self.x_std, self.x_mean # return saved mean and std dev of x\n",
    "\n",
    "    def gety(self):\n",
    "        return self.y_std, self.y_mean # return saved mean and std dev of y"
   ]
  },
  {
   "cell_type": "code",
   "execution_count": 7,
   "metadata": {},
   "outputs": [],
   "source": [
    "# normalize the training data\n",
    "normalizer = Scaler(x_train, y_train)\n",
    "x_std, x_mean = normalizer.getx()\n",
    "y_std, y_mean = normalizer.gety()\n",
    "x_train_norm = (x_train-x_mean)/ x_std\n",
    "x_test_norm = (x_test-x_mean)/ x_std\n",
    "y_train_norm = (y_train-y_mean)/ y_std"
   ]
  },
  {
   "cell_type": "code",
   "execution_count": 8,
   "metadata": {},
   "outputs": [],
   "source": [
    "class Feedforward(torch.nn.Module):\n",
    "    def __init__(self, input_size, hidden_size1, hidden_size2):\n",
    "        super(Feedforward, self).__init__() # Inherited from the parent class nn.Module\n",
    "        self.fc1 = torch.nn.Linear(input_size, hidden_size1)\n",
    "        self.fc2 = torch.nn.Linear(hidden_size1, hidden_size2)\n",
    "        self.fc3 = torch.nn.Linear(hidden_size2, 1)\n",
    "        self.relu = torch.nn.ReLU() # Non−Linear ReLU Layer: max(0,x)\n",
    "        \n",
    "    def forward(self, x): # Forward pass: stacking each layer together\n",
    "        out = self.fc1(x)\n",
    "        out = self.relu(out)\n",
    "        out = self.fc2(out)\n",
    "        out = self.relu(out)\n",
    "        out = self.fc3(out)\n",
    "        \n",
    "        return out"
   ]
  },
  {
   "cell_type": "code",
   "execution_count": 9,
   "metadata": {},
   "outputs": [],
   "source": [
    "model = Feedforward(3, 5, 5)\n",
    "mse = torch.nn.MSELoss()\n",
    "optimizer = torch.optim.Adam(model.parameters(), lr = 0.001)"
   ]
  },
  {
   "cell_type": "code",
   "execution_count": 12,
   "metadata": {},
   "outputs": [
    {
     "data": {
      "text/plain": [
       "<generator object Module.parameters at 0x7fcbbd81f6d0>"
      ]
     },
     "execution_count": 12,
     "metadata": {},
     "output_type": "execute_result"
    }
   ],
   "source": [
    "model.parameters()"
   ]
  },
  {
   "cell_type": "code",
   "execution_count": 10,
   "metadata": {},
   "outputs": [
    {
     "data": {
      "text/plain": [
       "torch.Size([160, 3])"
      ]
     },
     "execution_count": 10,
     "metadata": {},
     "output_type": "execute_result"
    }
   ],
   "source": [
    "x_train.size()"
   ]
  },
  {
   "cell_type": "code",
   "execution_count": 36,
   "metadata": {},
   "outputs": [],
   "source": [
    "# Sets the module in training mode.\n",
    "model.train()\n",
    "epoch = 100\n",
    "batch_size = 32\n",
    "\n",
    "# for each training epoch\n",
    "for epoch in range(epoch):\n",
    "    \n",
    "    #shuffle the training dataset (it's the same training dataset, just shuffled)\n",
    "    random_idx = torch.randperm(x_train.size()[0])\n",
    "    x_train_norm_shuff = x_train_norm[random_idx,]\n",
    "    y_train_norm_shuff = y_train_norm[random_idx]\n",
    "    \n",
    "    # forward and backward passes in batches\n",
    "    for batch in range(math.ceil(x_train.size()[0] / batch_size)):\n",
    "        # get the current batch of training data (x and y)\n",
    "        x_train_norm_batch = x_train_norm_shuff[(batch*batch_size):((batch+1)*batch_size),]\n",
    "        y_train_norm_batch = y_train_norm_shuff[(batch*batch_size):((batch+1)*batch_size)]\n",
    "        \n",
    "        # reset optimizer gradients to zero\n",
    "        optimizer.zero_grad()\n",
    "        \n",
    "        # do forward pass to produce predicted y\n",
    "        y_train_pred_norm = model(x_train_norm_batch)\n",
    "        \n",
    "        # compute loss between predicted y and true y\n",
    "        loss = mse(y_train_pred_norm.squeeze(), y_train_norm_batch)\n",
    "        \n",
    "        # do backward pass to compute the gradients of the loss wrt NN parameters\n",
    "        loss.backward()\n",
    "        \n",
    "        # optimizer updates the parameter according to gradients \n",
    "        optimizer.step()"
   ]
  },
  {
   "cell_type": "code",
   "execution_count": 37,
   "metadata": {},
   "outputs": [],
   "source": [
    "# Sets the module in evaluation mode.\n",
    "model.eval()\n",
    "y_test_pred_norm = model(x_test_norm)\n",
    "y_test_pred = y_test_pred_norm*y_std+y_mean"
   ]
  },
  {
   "cell_type": "code",
   "execution_count": 40,
   "metadata": {},
   "outputs": [
    {
     "data": {
      "image/png": "[encoded data removed]",
      "text/plain": [
       "<Figure size 432x288 with 1 Axes>"
      ]
     },
     "metadata": {
      "needs_background": "light"
     },
     "output_type": "display_data"
    }
   ],
   "source": [
    "import matplotlib.pyplot as plt\n",
    "fig, ax = plt.subplots(1)\n",
    "ax.plot(y_test, color=\"orange\", label=\"y_test\")\n",
    "ax.plot(y_test_pred.squeeze().detach().numpy(), label=\"y_test_pred\")\n",
    "plt.legend(loc=\"upper left\", frameon=False)\n",
    "plt.show()"
   ]
  },
  {
   "cell_type": "code",
   "execution_count": null,
   "metadata": {},
   "outputs": [],
   "source": []
  }
 ],
 "metadata": {
  "kernelspec": {
   "display_name": "Python 3",
   "language": "python",
   "name": "python3"
  },
  "language_info": {
   "codemirror_mode": {
    "name": "ipython",
    "version": 3
   },
   "file_extension": ".py",
   "mimetype": "text/x-python",
   "name": "python",
   "nbconvert_exporter": "python",
   "pygments_lexer": "ipython3",
   "version": "3.8.5"
  }
 },
 "nbformat": 4,
 "nbformat_minor": 4
}
